{
 "cells": [
  {
   "cell_type": "code",
   "execution_count": 811,
   "metadata": {},
   "outputs": [],
   "source": [
    "import random\n",
    "from PIL import Image, ImageDraw"
   ]
  },
  {
   "cell_type": "code",
   "execution_count": 812,
   "metadata": {},
   "outputs": [],
   "source": [
    "def conv_rule(n):\n",
    "    b = bin(n)\n",
    "    return b.replace(\"0b\",\"0\" * int(10 - len(b)))"
   ]
  },
  {
   "cell_type": "code",
   "execution_count": 813,
   "metadata": {},
   "outputs": [],
   "source": [
    "def print_aut(l):\n",
    "    print(\"\".join(map(str, l)).replace(\"1\", \"█\").replace(\"0\", \" \"))"
   ]
  },
  {
   "cell_type": "code",
   "execution_count": 814,
   "metadata": {},
   "outputs": [],
   "source": [
    "n = 128\n",
    "size = 512\n",
    "k = size // n\n",
    "\n",
    "rule_n = 110\n",
    "rule = conv_rule(rule_n)\n",
    "\n",
    "\n",
    "aut = [0] * n\n",
    "aut = [random.randint(0, 1) for i in range(n)]\n",
    "# aut = [0 for i in range(n)]\n",
    "# aut[n // 2] = 1"
   ]
  },
  {
   "cell_type": "code",
   "execution_count": 815,
   "metadata": {
    "scrolled": false
   },
   "outputs": [
    {
     "data": {
      "image/png": "[encoded data removed]",
      "text/plain": [
       "<PIL.Image.Image image mode=RGB size=512x512 at 0x7F8B5D89DD10>"
      ]
     },
     "metadata": {},
     "output_type": "display_data"
    }
   ],
   "source": [
    "img = Image.new('RGB', (size, size), color = 'white')\n",
    "\n",
    "# output first line\n",
    "\n",
    "draw = ImageDraw.Draw(img)\n",
    "for i in range(n):\n",
    "    if (aut[i] == 1): draw.rectangle([(k*i, 0), (k * (i + 1) - 1, k - 1)], fill = \"black\") \n",
    "del draw\n",
    "\n",
    "for i in range(n):\n",
    "    temp_aut = [0] * n\n",
    "\n",
    "    for j in range(n):\n",
    "        if (aut[(j - 1) % n] == 1):\n",
    "            if (aut[j % n] == 1):\n",
    "                if (aut[(j + 1) % n] == 1):\n",
    "                    temp_aut[j] = int(rule[0])\n",
    "                else:\n",
    "                    temp_aut[j] = int(rule[1])\n",
    "            else:\n",
    "                if (aut[(j + 1) % n] == 1):\n",
    "                    temp_aut[j] = int(rule[2])\n",
    "                else:\n",
    "                    temp_aut[j] = int(rule[3])\n",
    "        else:\n",
    "            if (aut[j % n] == 1):\n",
    "                if (aut[(j + 1) % n] == 1):\n",
    "                    temp_aut[j] = int(rule[4])\n",
    "                else:\n",
    "                    temp_aut[j] = int(rule[5])\n",
    "            else:\n",
    "                if (aut[(j + 1) % n] == 1):\n",
    "                    temp_aut[j] = int(rule[6])\n",
    "                else:\n",
    "                    temp_aut[j] = int(rule[7])\n",
    "              \n",
    "    aut = temp_aut.copy()\n",
    "    \n",
    "    # draw on picture\n",
    "    \n",
    "    draw = ImageDraw.Draw(img)\n",
    "    for j in range(n):\n",
    "        if (aut[j] == 1): draw.rectangle([(k*j, k*(i+1)), (k*(j+1)-1, k*(i+2)-1)], fill = \"black\") \n",
    "    del draw\n",
    "\n",
    "# output picture\n",
    "display(img)"
   ]
  },
  {
   "cell_type": "code",
   "execution_count": null,
   "metadata": {},
   "outputs": [],
   "source": []
  }
 ],
 "metadata": {
  "kernelspec": {
   "display_name": "Python 3",
   "language": "python",
   "name": "python3"
  },
  "language_info": {
   "codemirror_mode": {
    "name": "ipython",
    "version": 3
   },
   "file_extension": ".py",
   "mimetype": "text/x-python",
   "name": "python",
   "nbconvert_exporter": "python",
   "pygments_lexer": "ipython3",
   "version": "3.7.4"
  }
 },
 "nbformat": 4,
 "nbformat_minor": 2
}
